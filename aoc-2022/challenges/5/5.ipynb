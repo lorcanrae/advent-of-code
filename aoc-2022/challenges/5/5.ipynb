{
 "cells": [
  {
   "cell_type": "code",
   "execution_count": 1,
   "id": "bf47e4e9-0be7-4138-8664-1872d3df4cf4",
   "metadata": {},
   "outputs": [],
   "source": [
    "crate_stacks = [\n",
    "    ['H', 'T', 'Z', 'D'],\n",
    "    ['Q', 'R', 'W', 'T', 'G', 'C', 'S'],\n",
    "    ['P', 'B', 'F', 'Q', 'N', 'R', 'C', 'H'],\n",
    "    ['L', 'C', 'N', 'F', 'H', 'Z'],\n",
    "    ['G', 'L', 'F', 'Q', 'S'],\n",
    "    ['V', 'P', 'W', 'Z', 'B', 'R', 'C', 'S'],\n",
    "    ['Z', 'F', 'J'],\n",
    "    ['D', 'L', 'V', 'Z', 'R', 'H', 'Q'],\n",
    "    ['B', 'H', 'G', 'N', 'F', 'Z', 'L', 'D']\n",
    "]"
   ]
  },
  {
   "cell_type": "code",
   "execution_count": 2,
   "id": "ff348edc-0464-42c3-bd8c-a780b8555e14",
   "metadata": {},
   "outputs": [],
   "source": [
    "with open('input.txt', 'r') as f:\n",
    "    raw_directions = [line.strip('\\n') for line in f]\n",
    "\n",
    "directions = []\n",
    "for direction in raw_directions:\n",
    "    directions.append([int(element) for element in direction.split() if element.isnumeric()])"
   ]
  },
  {
   "cell_type": "code",
   "execution_count": 3,
   "id": "aaa510aa-031b-4298-8bf9-81f8a7a1b3f0",
   "metadata": {
    "tags": []
   },
   "outputs": [
    {
     "data": {
      "text/plain": [
       "[[2, 7, 2], [1, 4, 8], [2, 1, 9], [4, 6, 5], [1, 7, 6]]"
      ]
     },
     "execution_count": 3,
     "metadata": {},
     "output_type": "execute_result"
    }
   ],
   "source": [
    "directions[:5]"
   ]
  },
  {
   "cell_type": "code",
   "execution_count": 4,
   "id": "bcabb261-1e16-47de-9b41-f05a9c517d64",
   "metadata": {},
   "outputs": [],
   "source": [
    "for direction in directions:\n",
    "    for i in range(direction[0]):\n",
    "        source = crate_stacks[direction[1] - 1]\n",
    "        destination = crate_stacks[direction[2] - 1]\n",
    "\n",
    "        destination.append(source.pop())"
   ]
  },
  {
   "cell_type": "code",
   "execution_count": 5,
   "id": "1fb03d0e-8614-421e-876f-954f6ac7eecc",
   "metadata": {},
   "outputs": [
    {
     "data": {
      "text/plain": [
       "'RFFFWBPNS'"
      ]
     },
     "execution_count": 5,
     "metadata": {},
     "output_type": "execute_result"
    }
   ],
   "source": [
    "top_crates = ''.join([crate_stack[-1] for crate_stack in crate_stacks])\n",
    "top_crates"
   ]
  },
  {
   "cell_type": "code",
   "execution_count": 6,
   "id": "3d123ec8-7f50-4e0b-ae42-43dabee7b7ec",
   "metadata": {},
   "outputs": [],
   "source": [
    "crate_stacks = [\n",
    "    ['H', 'T', 'Z', 'D'],\n",
    "    ['Q', 'R', 'W', 'T', 'G', 'C', 'S'],\n",
    "    ['P', 'B', 'F', 'Q', 'N', 'R', 'C', 'H'],\n",
    "    ['L', 'C', 'N', 'F', 'H', 'Z'],\n",
    "    ['G', 'L', 'F', 'Q', 'S'],\n",
    "    ['V', 'P', 'W', 'Z', 'B', 'R', 'C', 'S'],\n",
    "    ['Z', 'F', 'J'],\n",
    "    ['D', 'L', 'V', 'Z', 'R', 'H', 'Q'],\n",
    "    ['B', 'H', 'G', 'N', 'F', 'Z', 'L', 'D']\n",
    "]"
   ]
  },
  {
   "cell_type": "code",
   "execution_count": 7,
   "id": "45971c32-3da5-484e-b48f-4dd8b6f83579",
   "metadata": {},
   "outputs": [],
   "source": [
    "for direction in directions:\n",
    "    source = crate_stacks[direction[1] - 1]\n",
    "    destination = crate_stacks[direction[2] - 1]\n",
    "    num_crates = direction[0]\n",
    "    for i in range(-num_crates, 0):\n",
    "        destination.append(source.pop(i))"
   ]
  },
  {
   "cell_type": "code",
   "execution_count": 8,
   "id": "992b6895-f214-4d61-beea-006b82470818",
   "metadata": {},
   "outputs": [
    {
     "data": {
      "text/plain": [
       "'CQQBBJFCS'"
      ]
     },
     "execution_count": 8,
     "metadata": {},
     "output_type": "execute_result"
    }
   ],
   "source": [
    "top_crates = ''.join([crate_stack[-1] for crate_stack in crate_stacks])\n",
    "top_crates"
   ]
  }
 ],
 "metadata": {
  "kernelspec": {
   "display_name": "Python 3 (ipykernel)",
   "language": "python",
   "name": "python3"
  },
  "language_info": {
   "codemirror_mode": {
    "name": "ipython",
    "version": 3
   },
   "file_extension": ".py",
   "mimetype": "text/x-python",
   "name": "python",
   "nbconvert_exporter": "python",
   "pygments_lexer": "ipython3",
   "version": "3.10.6"
  }
 },
 "nbformat": 4,
 "nbformat_minor": 5
}
