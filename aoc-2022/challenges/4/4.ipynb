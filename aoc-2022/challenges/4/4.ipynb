{
 "cells": [
  {
   "cell_type": "code",
   "execution_count": 2,
   "id": "72febcf4-b092-4ddf-9342-c3e2dd0daaef",
   "metadata": {},
   "outputs": [],
   "source": [
    "def get_data():\n",
    "    with open('input.txt', 'r') as f:\n",
    "        lines = [line.strip('\\n').split(',') for line in f]\n",
    "    return lines"
   ]
  },
  {
   "cell_type": "code",
   "execution_count": 3,
   "id": "7c4cd0bd-d563-4616-9545-abfcd1f8c04a",
   "metadata": {
    "tags": []
   },
   "outputs": [],
   "source": [
    "lines = get_data()"
   ]
  },
  {
   "cell_type": "code",
   "execution_count": 6,
   "id": "6ad03ecf-cb56-4ad9-884c-b7a0d6fdfca6",
   "metadata": {},
   "outputs": [
    {
     "data": {
      "text/plain": [
       "444"
      ]
     },
     "execution_count": 6,
     "metadata": {},
     "output_type": "execute_result"
    }
   ],
   "source": [
    "counter = 0\n",
    "\n",
    "for pair in lines:\n",
    "    sequential_zones = []\n",
    "    for elf in pair:\n",
    "        sec_start_stop = [int(zone) for zone in elf.split('-')]\n",
    "        sequential_zones.append(set(range(sec_start_stop[0], sec_start_stop[1] + 1)))\n",
    "    \n",
    "    # Option 1\n",
    "    # if sequential_zones[0].issubset(sequential_zones[1]) or sequential_zones[0].issuperset(sequential_zones[1]):\n",
    "    #     counter += 1\n",
    "    \n",
    "    # Option 2\n",
    "    overlap = sequential_zones[0].intersection(sequential_zones[1])\n",
    "    if overlap == sequential_zones[0] or overlap == sequential_zones[1]:\n",
    "        counter += 1\n",
    "        \n",
    "counter"
   ]
  },
  {
   "cell_type": "code",
   "execution_count": 7,
   "id": "83172464-ed0b-4e67-9ce4-a2fa4c9edc1a",
   "metadata": {},
   "outputs": [
    {
     "data": {
      "text/plain": [
       "801"
      ]
     },
     "execution_count": 7,
     "metadata": {},
     "output_type": "execute_result"
    }
   ],
   "source": [
    "counter = 0\n",
    "\n",
    "for pair in lines:\n",
    "    sequential_zones = []\n",
    "    for elf in pair:\n",
    "        sec_start_stop = [int(zone) for zone in elf.split('-')]\n",
    "        sequential_zones.append(set(range(sec_start_stop[0], sec_start_stop[1] + 1)))\n",
    "    \n",
    "    overlap = sequential_zones[0].intersection(sequential_zones[1])\n",
    "    if len(overlap) > 0:\n",
    "        counter += 1\n",
    "        \n",
    "counter"
   ]
  },
  {
   "cell_type": "code",
   "execution_count": null,
   "id": "a0d49b69-bb1d-4944-a813-92299975ec8a",
   "metadata": {},
   "outputs": [],
   "source": []
  }
 ],
 "metadata": {
  "kernelspec": {
   "display_name": "Python 3 (ipykernel)",
   "language": "python",
   "name": "python3"
  },
  "language_info": {
   "codemirror_mode": {
    "name": "ipython",
    "version": 3
   },
   "file_extension": ".py",
   "mimetype": "text/x-python",
   "name": "python",
   "nbconvert_exporter": "python",
   "pygments_lexer": "ipython3",
   "version": "3.10.6"
  },
  "vscode": {
   "interpreter": {
    "hash": "477dee08920871f365696aa3595cd2bf97525b8ffd65a32d7d368e76ff91272e"
   }
  }
 },
 "nbformat": 4,
 "nbformat_minor": 5
}
