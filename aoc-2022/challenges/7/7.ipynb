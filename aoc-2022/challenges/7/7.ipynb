{
 "cells": [
  {
   "cell_type": "code",
   "execution_count": 1,
   "id": "6e9d9985-06a3-42df-ba54-b9ea7ee2360d",
   "metadata": {},
   "outputs": [],
   "source": [
    "with open('input.txt', 'r') as f:\n",
    "    terminal_input = [line.strip('\\n') for line in f.readlines()]"
   ]
  },
  {
   "cell_type": "code",
   "execution_count": 2,
   "id": "04f7c660-9c17-40cd-acb5-77ee279894af",
   "metadata": {},
   "outputs": [],
   "source": [
    "import pprint\n",
    "\n",
    "pp = pprint.PrettyPrinter()"
   ]
  },
  {
   "cell_type": "code",
   "execution_count": 26,
   "id": "74d4ae82-ee54-4208-9eef-08984aeae2e4",
   "metadata": {
    "tags": []
   },
   "outputs": [],
   "source": [
    "dirs = {}\n",
    "\n",
    "for line in terminal_input:\n",
    "    match line.split():\n",
    "        case '$', 'cd', '/': cur_path = ['/']\n",
    "        case '$', 'cd', '..': cur_path.pop()\n",
    "        case '$', 'cd', x : cur_path.append(x+'/')\n",
    "        case 'dir', _ : pass\n",
    "        case '$', 'ls' : pass\n",
    "        case size, _ : \n",
    "            for i, _ in enumerate(cur_path, 1):\n",
    "                # print(\"\".join(cur_path[:i]))\n",
    "                try:\n",
    "                    dirs[\"\".join(cur_path[:i])] += int(size)\n",
    "                except:\n",
    "                    dirs[\"\".join(cur_path[:i])] = int(size)\n",
    "# pp.pprint(dirs)"
   ]
  },
  {
   "cell_type": "code",
   "execution_count": 27,
   "id": "88570385-721a-4010-b0de-086d7a9d8b14",
   "metadata": {
    "tags": []
   },
   "outputs": [
    {
     "data": {
      "text/plain": [
       "1454188"
      ]
     },
     "execution_count": 27,
     "metadata": {},
     "output_type": "execute_result"
    }
   ],
   "source": [
    "sum(value for value in dirs.values() if value <= 100_000)"
   ]
  },
  {
   "cell_type": "code",
   "execution_count": 28,
   "id": "58aefdab-90c0-4184-8220-46a3583ffb9e",
   "metadata": {},
   "outputs": [
    {
     "data": {
      "text/plain": [
       "4183246"
      ]
     },
     "execution_count": 28,
     "metadata": {},
     "output_type": "execute_result"
    }
   ],
   "source": [
    "max_other = 70_000_000 - 30_000_000\n",
    "min(dir_size for dir_size in dirs.values() if dir_size >= dirs['/'] - max_other)"
   ]
  },
  {
   "cell_type": "code",
   "execution_count": null,
   "id": "3f531797-1c46-44bb-a2d1-d61956ca65b3",
   "metadata": {},
   "outputs": [],
   "source": [
    "# of course there is an itertools for accumulating\n",
    "from itertools import accumulate\n",
    "\n",
    "dirs = {}\n",
    "\n",
    "for line in terminal_input:\n",
    "    match line.split():\n",
    "        case '$', 'cd', '/': cur_path = ['/']\n",
    "        case '$', 'cd', '..': cur_path.pop()\n",
    "        case '$', 'cd', x : cur_path.append(x+'/')\n",
    "        case 'dir', _ : pass\n",
    "        case '$', 'ls' : pass\n",
    "        case size, _ : \n",
    "            for path in accumulate(cur_path):\n",
    "                try:\n",
    "                    dirs[path] += int(size)\n",
    "                except KeyError:\n",
    "                    dirs[path] = int(size)\n",
    "# pp.pprint(dirs)"
   ]
  }
 ],
 "metadata": {
  "kernelspec": {
   "display_name": "Python 3 (ipykernel)",
   "language": "python",
   "name": "python3"
  },
  "language_info": {
   "codemirror_mode": {
    "name": "ipython",
    "version": 3
   },
   "file_extension": ".py",
   "mimetype": "text/x-python",
   "name": "python",
   "nbconvert_exporter": "python",
   "pygments_lexer": "ipython3",
   "version": "3.10.6"
  }
 },
 "nbformat": 4,
 "nbformat_minor": 5
}
