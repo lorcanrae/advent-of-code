{
 "cells": [
  {
   "cell_type": "markdown",
   "id": "71d29ada-a244-4dd8-b888-c52dc11221d9",
   "metadata": {},
   "source": [
    "# Day 1"
   ]
  },
  {
   "cell_type": "markdown",
   "id": "0eb87807-ef0c-4945-b0e8-4af87b7b0be7",
   "metadata": {},
   "source": [
    "## Day 1- Part 1"
   ]
  },
  {
   "cell_type": "code",
   "execution_count": 2,
   "id": "8c3ab0e0-7bc7-46c1-9b6c-801eb170c17c",
   "metadata": {},
   "outputs": [],
   "source": [
    "# load data\n",
    "\n",
    "with open('../challenges/1/input.txt', 'r') as f:\n",
    "    lines = ['break' if line == '\\n' else line.strip('\\n') for line in f.readlines()]\n",
    "\n",
    "each_elf = \" \".join(lines).split(' break ')\n",
    "# each_elf"
   ]
  },
  {
   "cell_type": "code",
   "execution_count": null,
   "id": "9ca2bbd4-c8f1-4c8a-91bd-883687f0e1e5",
   "metadata": {},
   "outputs": [],
   "source": [
    "each_elf_list = []\n",
    "for elf in each_elf:\n",
    "    each_elf_list.append(elf.split(' '))\n",
    "\n",
    "len(each_elf_list)"
   ]
  },
  {
   "cell_type": "code",
   "execution_count": null,
   "id": "e17de295-7439-48b5-9242-c9952af94ca0",
   "metadata": {},
   "outputs": [],
   "source": [
    "each_elf_total = [sum([int(cals) for cals in elf]) for elf in each_elf]"
   ]
  },
  {
   "cell_type": "code",
   "execution_count": null,
   "id": "ce716139-2cf7-484f-9603-cd56a54aec42",
   "metadata": {},
   "outputs": [],
   "source": [
    "max_elf = 0\n",
    "max_cals = 0\n",
    "\n",
    "for i, elf in enumerate(each_elf_list, 1):\n",
    "    cals_carried = sum([int(cal) for cal in elf])\n",
    "    if cals_carried > max_cals:\n",
    "        max_elf = i\n",
    "        max_cals = cals_carried"
   ]
  },
  {
   "cell_type": "code",
   "execution_count": null,
   "id": "77798187-691c-4ef1-8015-2fe8e5bb2b6a",
   "metadata": {},
   "outputs": [],
   "source": [
    "max_cals"
   ]
  },
  {
   "cell_type": "markdown",
   "id": "a7636f3f-69d7-4640-b70c-31719d12b143",
   "metadata": {},
   "source": [
    "## Day 1 - Part 2"
   ]
  },
  {
   "cell_type": "code",
   "execution_count": null,
   "id": "d1ad32f1-df98-4332-93fd-5d62a7e50617",
   "metadata": {},
   "outputs": [],
   "source": [
    "elf_total_cals = []\n",
    "\n",
    "for elf in each_elf_list:\n",
    "    elf_total_cals.append(sum([int(cal) for cal in elf]))\n",
    "\n",
    "elf_total_cals\n",
    "\n",
    "top_three = sorted([(x, i) for i, x in enumerate(elf_total_cals, 1)], reverse=True)[:3]"
   ]
  },
  {
   "cell_type": "code",
   "execution_count": null,
   "id": "2e5b0145-940a-42ee-9dd8-f6f224f31e48",
   "metadata": {},
   "outputs": [],
   "source": [
    "total_top_three = sum([elf[0] for elf in top_three])\n",
    "total_top_three"
   ]
  },
  {
   "cell_type": "markdown",
   "id": "16e4fb26-1240-4fa0-a807-e6cf88dcea53",
   "metadata": {},
   "source": [
    "# Day 4"
   ]
  },
  {
   "cell_type": "markdown",
   "id": "7f619e0b-09ad-4af3-b504-d9ac417904f9",
   "metadata": {},
   "source": [
    "## Day 4 - Part 1"
   ]
  },
  {
   "cell_type": "code",
   "execution_count": null,
   "id": "923441b9-5f04-4a49-9308-bae1e746a430",
   "metadata": {},
   "outputs": [],
   "source": [
    "def get_data():\n",
    "    with open('../challenges/4/input.txt', 'r') as f:\n",
    "        lines = [line.strip('\\n').split(',') for line in f]\n",
    "    return lines"
   ]
  },
  {
   "cell_type": "code",
   "execution_count": null,
   "id": "8fcd3442-b6c0-4949-a798-57ed00635446",
   "metadata": {},
   "outputs": [],
   "source": [
    "lines = get_data()"
   ]
  },
  {
   "cell_type": "code",
   "execution_count": null,
   "id": "b43b6bb9-acb6-4ca4-ba92-3776b7fee6e4",
   "metadata": {},
   "outputs": [],
   "source": [
    "counter = 0\n",
    "\n",
    "for pair in lines:\n",
    "    sequential_zones = []\n",
    "    for elf in pair:\n",
    "        sec_start_stop = [int(zone) for zone in elf.split('-')]\n",
    "        sequential_zones.append(set(range(sec_start_stop[0], sec_start_stop[1] + 1)))\n",
    "    \n",
    "    # Option 1\n",
    "    # if sequential_zones[0].issubset(sequential_zones[1]) or sequential_zones[0].issuperset(sequential_zones[1]):\n",
    "    #     counter += 1\n",
    "    \n",
    "    # Option 2\n",
    "    overlap = sequential_zones[0].intersection(sequential_zones[1])\n",
    "    if overlap == sequential_zones[0] or overlap == sequential_zones[1]:\n",
    "        counter += 1\n",
    "        \n",
    "counter"
   ]
  },
  {
   "cell_type": "markdown",
   "id": "966db883-6e64-46ad-bfdf-a164df7f49c8",
   "metadata": {},
   "source": [
    "## Day 4 - Part 2"
   ]
  },
  {
   "cell_type": "code",
   "execution_count": null,
   "id": "073b767f-c609-4b32-a7fb-897cd55eb169",
   "metadata": {},
   "outputs": [],
   "source": [
    "counter = 0\n",
    "\n",
    "for pair in lines:\n",
    "    sequential_zones = []\n",
    "    for elf in pair:\n",
    "        sec_start_stop = [int(zone) for zone in elf.split('-')]\n",
    "        sequential_zones.append(set(range(sec_start_stop[0], sec_start_stop[1] + 1)))\n",
    "    \n",
    "    overlap = sequential_zones[0].intersection(sequential_zones[1])\n",
    "    if len(overlap) > 0:\n",
    "        counter += 1\n",
    "        \n",
    "counter"
   ]
  },
  {
   "cell_type": "markdown",
   "id": "1e215128-e0c0-48e2-ad19-b8d055971b1f",
   "metadata": {},
   "source": [
    "# Day 5"
   ]
  },
  {
   "cell_type": "markdown",
   "id": "286aae46-ed01-4b76-9836-2ec673405fc2",
   "metadata": {},
   "source": [
    "## Day 5 - Part 1"
   ]
  },
  {
   "cell_type": "code",
   "execution_count": 5,
   "id": "8303ec83-e056-4a20-8a84-8bbe72ece4a4",
   "metadata": {},
   "outputs": [],
   "source": [
    "def create_crates():\n",
    "    crate_stacks = [\n",
    "        ['H', 'T', 'Z', 'D'],\n",
    "        ['Q', 'R', 'W', 'T', 'G', 'C', 'S'],\n",
    "        ['P', 'B', 'F', 'Q', 'N', 'R', 'C', 'H'],\n",
    "        ['L', 'C', 'N', 'F', 'H', 'Z'],\n",
    "        ['G', 'L', 'F', 'Q', 'S'],\n",
    "        ['V', 'P', 'W', 'Z', 'B', 'R', 'C', 'S'],\n",
    "        ['Z', 'F', 'J'],\n",
    "        ['D', 'L', 'V', 'Z', 'R', 'H', 'Q'],\n",
    "        ['B', 'H', 'G', 'N', 'F', 'Z', 'L', 'D']\n",
    "    ]\n",
    "    return crate_stacks"
   ]
  },
  {
   "cell_type": "code",
   "execution_count": null,
   "id": "da2b6b6a-f222-4c56-9445-711092a7b825",
   "metadata": {},
   "outputs": [],
   "source": [
    "crate_stacks = create_crates()"
   ]
  },
  {
   "cell_type": "code",
   "execution_count": null,
   "id": "59a94787-e7b3-4071-8645-092fda677d5c",
   "metadata": {},
   "outputs": [],
   "source": [
    "with open('../challenges/5/input.txt, 'r') as f:\n",
    "    raw_directions = [line.strip('\\n') for line in f]\n",
    "\n",
    "directions = []\n",
    "for direction in raw_directions:\n",
    "    directions.append([int(element) for element in direction.split() if element.isnumeric()])"
   ]
  },
  {
   "cell_type": "code",
   "execution_count": null,
   "id": "9e4620e9-dd8e-4bee-8f4e-272b8e202f6d",
   "metadata": {},
   "outputs": [],
   "source": [
    "for direction in directions:\n",
    "    for i in range(direction[0]):\n",
    "        source = crate_stacks[direction[1] - 1]\n",
    "        destination = crate_stacks[direction[2] - 1]\n",
    "\n",
    "        destination.append(source.pop())"
   ]
  },
  {
   "cell_type": "code",
   "execution_count": null,
   "id": "c355f190-b43f-424c-9d3a-f922727ac48e",
   "metadata": {},
   "outputs": [],
   "source": [
    "top_crates = ''.join([crate_stack[-1] for crate_stack in crate_stacks])\n",
    "top_crates"
   ]
  },
  {
   "cell_type": "markdown",
   "id": "bab390b5-6abd-44a5-9b96-1aa256b5ad44",
   "metadata": {},
   "source": [
    "## Day 5 - Part 2"
   ]
  },
  {
   "cell_type": "code",
   "execution_count": null,
   "id": "81b118c2-3298-4e54-a6d4-7c5a9a34d26e",
   "metadata": {},
   "outputs": [],
   "source": [
    "crate_stacks = create_crates()"
   ]
  },
  {
   "cell_type": "code",
   "execution_count": null,
   "id": "3178d448-350b-42a5-9503-b7e01094364a",
   "metadata": {},
   "outputs": [],
   "source": [
    "for direction in directions:\n",
    "    source = crate_stacks[direction[1] - 1]\n",
    "    destination = crate_stacks[direction[2] - 1]\n",
    "    num_crates = direction[0]\n",
    "    for i in range(-num_crates, 0):\n",
    "        destination.append(source.pop(i))"
   ]
  },
  {
   "cell_type": "code",
   "execution_count": null,
   "id": "20707ccf-30be-4c25-aa75-59c9b44daaaa",
   "metadata": {},
   "outputs": [],
   "source": [
    "top_crates = ''.join([crate_stack[-1] for crate_stack in crate_stacks])\n",
    "top_crates"
   ]
  },
  {
   "cell_type": "markdown",
   "id": "d31b54ae-cdea-4491-9837-b5ac53950595",
   "metadata": {},
   "source": [
    "# Day 6"
   ]
  },
  {
   "cell_type": "markdown",
   "id": "b307c1b8-f1b7-4b03-8f90-efc5cc40fdb3",
   "metadata": {},
   "source": [
    "## Day 6 - Part 1"
   ]
  },
  {
   "cell_type": "code",
   "execution_count": null,
   "id": "c149f2bb-4721-43a9-8533-bfad14efe831",
   "metadata": {},
   "outputs": [],
   "source": [
    "with open('../challenges/6/input.txt', 'r') as f:\n",
    "    input_string = f.readlines()[0]"
   ]
  },
  {
   "cell_type": "code",
   "execution_count": null,
   "id": "cd34ad41-05fe-4fe4-a5b2-828670b5cb66",
   "metadata": {},
   "outputs": [],
   "source": [
    "# Part 1\n",
    "for i, _ in enumerate(input_string, 1):\n",
    "    if len(set(input_string[i - 4: i])) == 4:\n",
    "        output = i\n",
    "        print(i)\n",
    "        break"
   ]
  },
  {
   "cell_type": "markdown",
   "id": "046c3e40-ddc7-4bea-9aad-0534d6f37eca",
   "metadata": {},
   "source": [
    "## Day 6 - Part 2"
   ]
  },
  {
   "cell_type": "code",
   "execution_count": null,
   "id": "8536e970-ce49-4d8d-9383-332e842cc9bb",
   "metadata": {},
   "outputs": [],
   "source": [
    "# Part 2\n",
    "for i, _ in enumerate(input_string, 1):\n",
    "    if len(set(input_string[i - 14: i])) == 14:\n",
    "        output = i\n",
    "        print(i)\n",
    "        break"
   ]
  },
  {
   "cell_type": "code",
   "execution_count": null,
   "id": "743a1205-21cd-4e23-a500-c762a7f40d17",
   "metadata": {},
   "outputs": [],
   "source": []
  },
  {
   "cell_type": "markdown",
   "id": "d8e3604a-3200-45c0-a066-ae8b0dfa33db",
   "metadata": {},
   "source": [
    "# Day 7"
   ]
  },
  {
   "cell_type": "markdown",
   "id": "c9bebb3d-77ea-4883-bd9a-25c34080ecee",
   "metadata": {},
   "source": [
    "## Day 7 - Part 1"
   ]
  },
  {
   "cell_type": "code",
   "execution_count": null,
   "id": "c11c8d3c-1598-4ebd-abcd-7d66418c3062",
   "metadata": {},
   "outputs": [],
   "source": [
    "import pprint\n",
    "pp = pprint.PrettyPrinter()"
   ]
  },
  {
   "cell_type": "code",
   "execution_count": null,
   "id": "5035aeff-94ed-4bee-a873-f6c18ab174d6",
   "metadata": {},
   "outputs": [],
   "source": [
    "with open('../challenges/7/input.txt', 'r') as f:\n",
    "    terminal_input = [line.strip('\\n') for line in f.readlines()]"
   ]
  },
  {
   "cell_type": "code",
   "execution_count": null,
   "id": "90904023-6e01-4b95-adb8-304491409f4a",
   "metadata": {},
   "outputs": [],
   "source": [
    "dirs = {}\n",
    "\n",
    "for line in terminal_input:\n",
    "    match line.split():\n",
    "        case '$', 'cd', '/': cur_path = ['/']\n",
    "        case '$', 'cd', '..': cur_path.pop()\n",
    "        case '$', 'cd', x : cur_path.append(x+'/')\n",
    "        case 'dir', _ : pass\n",
    "        case '$', 'ls' : pass\n",
    "        case size, _ : \n",
    "            for i, _ in enumerate(cur_path, 1):\n",
    "                # print(\"\".join(cur_path[:i]))\n",
    "                try:\n",
    "                    dirs[\"\".join(cur_path[:i])] += int(size)\n",
    "                except:\n",
    "                    dirs[\"\".join(cur_path[:i])] = int(size)\n",
    "# pp.pprint(dirs)"
   ]
  },
  {
   "cell_type": "code",
   "execution_count": null,
   "id": "ae0f5206-b672-415b-9d1f-19aa82c4ffd6",
   "metadata": {},
   "outputs": [],
   "source": []
  },
  {
   "cell_type": "code",
   "execution_count": null,
   "id": "a73c2cac-ecab-4388-984b-4b991ba334ab",
   "metadata": {},
   "outputs": [],
   "source": [
    "# of course there is an itertools for accumulating\n",
    "from itertools import accumulate\n",
    "\n",
    "dirs = {}\n",
    "\n",
    "for line in terminal_input:\n",
    "    match line.split():\n",
    "        case '$', 'cd', '/': cur_path = ['/']\n",
    "        case '$', 'cd', '..': cur_path.pop()\n",
    "        case '$', 'cd', x : cur_path.append(x+'/')\n",
    "        case 'dir', _ : pass\n",
    "        case '$', 'ls' : pass\n",
    "        case size, _ : \n",
    "            for path in accumulate(cur_path):\n",
    "                try:\n",
    "                    dirs[path] += int(size)\n",
    "                except KeyError:\n",
    "                    dirs[path] = int(size)\n",
    "# pp.pprint(dirs)"
   ]
  },
  {
   "cell_type": "code",
   "execution_count": null,
   "id": "395d4172-7024-4c04-95bc-1dee7994dfb1",
   "metadata": {},
   "outputs": [],
   "source": []
  },
  {
   "cell_type": "code",
   "execution_count": null,
   "id": "65aaa4de-f50c-4bf1-8a5e-06357c6f3483",
   "metadata": {},
   "outputs": [],
   "source": [
    "sum(value for value in dirs.values() if value <= 100_000)"
   ]
  },
  {
   "cell_type": "markdown",
   "id": "ed5ce533-ebb8-49b5-8745-e8b555e0071b",
   "metadata": {},
   "source": [
    "## Day 7 - Part 2"
   ]
  },
  {
   "cell_type": "code",
   "execution_count": null,
   "id": "9a6e21bb-78fd-420d-8c98-344f759123fc",
   "metadata": {},
   "outputs": [],
   "source": [
    "max_other = 70_000_000 - 30_000_000\n",
    "min(dir_size for dir_size in dirs.values() if dir_size >= dirs['/'] - max_other)"
   ]
  },
  {
   "cell_type": "markdown",
   "id": "4fcf44b7-ea30-49ec-b13f-174b682b4f89",
   "metadata": {},
   "source": [
    "# Day 8"
   ]
  },
  {
   "cell_type": "markdown",
   "id": "cb748ec5-9dfc-4c33-8f44-5718838ecb3a",
   "metadata": {},
   "source": [
    "## Day 8 - Part 1"
   ]
  },
  {
   "cell_type": "code",
   "execution_count": null,
   "id": "34a717fb-40e1-4735-8c05-848b563e99e7",
   "metadata": {},
   "outputs": [],
   "source": [
    "with open('../challenges/8/input.txt', 'r') as f:\n",
    "    terminal_input = [line.strip('\\n') for line in f.readlines()]"
   ]
  },
  {
   "cell_type": "code",
   "execution_count": null,
   "id": "282f74c4-524b-45e3-97ee-a660964e08d6",
   "metadata": {},
   "outputs": [],
   "source": []
  },
  {
   "cell_type": "code",
   "execution_count": null,
   "id": "0af4bb4b-92f0-4d40-a8c2-7a6dbed59243",
   "metadata": {},
   "outputs": [],
   "source": []
  },
  {
   "cell_type": "code",
   "execution_count": null,
   "id": "1f3fa9d1-a178-436d-b4fe-a2e8f8744087",
   "metadata": {},
   "outputs": [],
   "source": []
  },
  {
   "cell_type": "code",
   "execution_count": null,
   "id": "4bd6f999-1961-43d3-a668-23fd2321b37a",
   "metadata": {},
   "outputs": [],
   "source": []
  },
  {
   "cell_type": "code",
   "execution_count": null,
   "id": "d30f0eb9-7d1b-4f92-8c95-a409f641de75",
   "metadata": {},
   "outputs": [],
   "source": []
  },
  {
   "cell_type": "code",
   "execution_count": null,
   "id": "f2ae26ca-035a-4e5a-8c59-ffcb80c9f086",
   "metadata": {},
   "outputs": [],
   "source": []
  },
  {
   "cell_type": "code",
   "execution_count": null,
   "id": "b5d9697f-8410-4241-94e2-e4567c2acb36",
   "metadata": {},
   "outputs": [],
   "source": []
  },
  {
   "cell_type": "code",
   "execution_count": null,
   "id": "026d79d7-53e9-46df-981f-7bcff76c4028",
   "metadata": {},
   "outputs": [],
   "source": []
  },
  {
   "cell_type": "code",
   "execution_count": null,
   "id": "f8064ca1-b839-4202-ac75-a5f43db01e2f",
   "metadata": {},
   "outputs": [],
   "source": []
  },
  {
   "cell_type": "code",
   "execution_count": null,
   "id": "e2d99e9d-9af1-4b7d-ae15-d89dd7eb7c1a",
   "metadata": {},
   "outputs": [],
   "source": []
  },
  {
   "cell_type": "code",
   "execution_count": null,
   "id": "509d8982-7435-43f5-99f2-bfd99d5f1224",
   "metadata": {},
   "outputs": [],
   "source": []
  },
  {
   "cell_type": "code",
   "execution_count": null,
   "id": "050e332f-9a03-4ce5-8a2b-e3ed161dac7c",
   "metadata": {},
   "outputs": [],
   "source": []
  },
  {
   "cell_type": "code",
   "execution_count": null,
   "id": "96080e2a-adfe-4788-b118-64b10048fad9",
   "metadata": {},
   "outputs": [],
   "source": []
  },
  {
   "cell_type": "code",
   "execution_count": null,
   "id": "3344272b-9867-4b5d-ad36-4dacc1cbb86a",
   "metadata": {},
   "outputs": [],
   "source": []
  },
  {
   "cell_type": "code",
   "execution_count": null,
   "id": "9515c00c-c895-4bd6-b2f6-8fa47981bad9",
   "metadata": {},
   "outputs": [],
   "source": []
  },
  {
   "cell_type": "code",
   "execution_count": null,
   "id": "419f46ee-d24f-4bc2-8b04-793a43e3ae38",
   "metadata": {},
   "outputs": [],
   "source": []
  },
  {
   "cell_type": "code",
   "execution_count": null,
   "id": "b6f7881e-ce17-41c9-8e5e-69def3c77cef",
   "metadata": {},
   "outputs": [],
   "source": []
  },
  {
   "cell_type": "code",
   "execution_count": null,
   "id": "241e6c11-1f95-4459-bcfb-2e90224e2683",
   "metadata": {},
   "outputs": [],
   "source": []
  },
  {
   "cell_type": "code",
   "execution_count": null,
   "id": "542bd743-874d-4c6b-99b3-fefdf041dbd1",
   "metadata": {},
   "outputs": [],
   "source": []
  },
  {
   "cell_type": "code",
   "execution_count": null,
   "id": "a8327a99-291a-442a-a158-f2211058fd89",
   "metadata": {},
   "outputs": [],
   "source": []
  },
  {
   "cell_type": "code",
   "execution_count": null,
   "id": "d048bfc9-2742-4b07-b015-6b0c5ffaee8c",
   "metadata": {},
   "outputs": [],
   "source": []
  },
  {
   "cell_type": "code",
   "execution_count": null,
   "id": "9e878f30-2ac6-4ca0-831e-1b928f04d20a",
   "metadata": {},
   "outputs": [],
   "source": []
  },
  {
   "cell_type": "code",
   "execution_count": null,
   "id": "45ae8444-549a-48eb-b4cb-b20e53e8cc7f",
   "metadata": {},
   "outputs": [],
   "source": []
  }
 ],
 "metadata": {
  "kernelspec": {
   "display_name": "Python 3 (ipykernel)",
   "language": "python",
   "name": "python3"
  },
  "language_info": {
   "codemirror_mode": {
    "name": "ipython",
    "version": 3
   },
   "file_extension": ".py",
   "mimetype": "text/x-python",
   "name": "python",
   "nbconvert_exporter": "python",
   "pygments_lexer": "ipython3",
   "version": "3.10.6"
  }
 },
 "nbformat": 4,
 "nbformat_minor": 5
}
