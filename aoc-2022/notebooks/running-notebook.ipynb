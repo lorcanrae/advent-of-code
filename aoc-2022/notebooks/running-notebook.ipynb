{
 "cells": [
  {
   "cell_type": "markdown",
   "id": "71d29ada-a244-4dd8-b888-c52dc11221d9",
   "metadata": {},
   "source": [
    "# Day 1"
   ]
  },
  {
   "cell_type": "markdown",
   "id": "0eb87807-ef0c-4945-b0e8-4af87b7b0be7",
   "metadata": {},
   "source": [
    "## Day 1- Part 1"
   ]
  },
  {
   "cell_type": "code",
   "execution_count": 1,
   "id": "8c3ab0e0-7bc7-46c1-9b6c-801eb170c17c",
   "metadata": {},
   "outputs": [],
   "source": [
    "# load data\n",
    "\n",
    "with open('../challenges/1/input.txt', 'r') as f:\n",
    "    lines = ['break' if line == '\\n' else line.strip('\\n') for line in f.readlines()]\n",
    "\n",
    "each_elf = \" \".join(lines).split(' break ')\n",
    "# each_elf"
   ]
  },
  {
   "cell_type": "code",
   "execution_count": 2,
   "id": "9ca2bbd4-c8f1-4c8a-91bd-883687f0e1e5",
   "metadata": {},
   "outputs": [
    {
     "data": {
      "text/plain": [
       "241"
      ]
     },
     "execution_count": 2,
     "metadata": {},
     "output_type": "execute_result"
    }
   ],
   "source": [
    "each_elf_list = []\n",
    "for elf in each_elf:\n",
    "    each_elf_list.append(elf.split(' '))\n",
    "\n",
    "len(each_elf_list)"
   ]
  },
  {
   "cell_type": "code",
   "execution_count": 3,
   "id": "e17de295-7439-48b5-9242-c9952af94ca0",
   "metadata": {},
   "outputs": [],
   "source": [
    "each_elf_total = [sum([int(cals) for cals in elf.split()]) for elf in each_elf]"
   ]
  },
  {
   "cell_type": "code",
   "execution_count": 4,
   "id": "ce716139-2cf7-484f-9603-cd56a54aec42",
   "metadata": {},
   "outputs": [],
   "source": [
    "max_elf = 0\n",
    "max_cals = 0\n",
    "\n",
    "for i, elf in enumerate(each_elf_list, 1):\n",
    "    cals_carried = sum([int(cal) for cal in elf])\n",
    "    if cals_carried > max_cals:\n",
    "        max_elf = i\n",
    "        max_cals = cals_carried"
   ]
  },
  {
   "cell_type": "code",
   "execution_count": 5,
   "id": "77798187-691c-4ef1-8015-2fe8e5bb2b6a",
   "metadata": {},
   "outputs": [
    {
     "data": {
      "text/plain": [
       "67658"
      ]
     },
     "execution_count": 5,
     "metadata": {},
     "output_type": "execute_result"
    }
   ],
   "source": [
    "max_cals"
   ]
  },
  {
   "cell_type": "markdown",
   "id": "a7636f3f-69d7-4640-b70c-31719d12b143",
   "metadata": {},
   "source": [
    "## Day 1 - Part 2"
   ]
  },
  {
   "cell_type": "code",
   "execution_count": 6,
   "id": "d1ad32f1-df98-4332-93fd-5d62a7e50617",
   "metadata": {},
   "outputs": [],
   "source": [
    "elf_total_cals = []\n",
    "\n",
    "for elf in each_elf_list:\n",
    "    elf_total_cals.append(sum([int(cal) for cal in elf]))\n",
    "\n",
    "elf_total_cals\n",
    "\n",
    "top_three = sorted([(x, i) for i, x in enumerate(elf_total_cals, 1)], reverse=True)[:3]"
   ]
  },
  {
   "cell_type": "code",
   "execution_count": 7,
   "id": "2e5b0145-940a-42ee-9dd8-f6f224f31e48",
   "metadata": {},
   "outputs": [
    {
     "data": {
      "text/plain": [
       "200158"
      ]
     },
     "execution_count": 7,
     "metadata": {},
     "output_type": "execute_result"
    }
   ],
   "source": [
    "total_top_three = sum([elf[0] for elf in top_three])\n",
    "total_top_three"
   ]
  },
  {
   "cell_type": "markdown",
   "id": "16e4fb26-1240-4fa0-a807-e6cf88dcea53",
   "metadata": {},
   "source": [
    "# Day 4"
   ]
  },
  {
   "cell_type": "markdown",
   "id": "7f619e0b-09ad-4af3-b504-d9ac417904f9",
   "metadata": {},
   "source": [
    "## Day 4 - Part 1"
   ]
  },
  {
   "cell_type": "code",
   "execution_count": 8,
   "id": "923441b9-5f04-4a49-9308-bae1e746a430",
   "metadata": {},
   "outputs": [],
   "source": [
    "def get_data():\n",
    "    with open('../challenges/4/input.txt', 'r') as f:\n",
    "        lines = [line.strip('\\n').split(',') for line in f]\n",
    "    return lines"
   ]
  },
  {
   "cell_type": "code",
   "execution_count": 9,
   "id": "8fcd3442-b6c0-4949-a798-57ed00635446",
   "metadata": {},
   "outputs": [],
   "source": [
    "lines = get_data()"
   ]
  },
  {
   "cell_type": "code",
   "execution_count": 10,
   "id": "b43b6bb9-acb6-4ca4-ba92-3776b7fee6e4",
   "metadata": {},
   "outputs": [
    {
     "data": {
      "text/plain": [
       "444"
      ]
     },
     "execution_count": 10,
     "metadata": {},
     "output_type": "execute_result"
    }
   ],
   "source": [
    "counter = 0\n",
    "\n",
    "for pair in lines:\n",
    "    sequential_zones = []\n",
    "    for elf in pair:\n",
    "        sec_start_stop = [int(zone) for zone in elf.split('-')]\n",
    "        sequential_zones.append(set(range(sec_start_stop[0], sec_start_stop[1] + 1)))\n",
    "    \n",
    "    # Option 1\n",
    "    # if sequential_zones[0].issubset(sequential_zones[1]) or sequential_zones[0].issuperset(sequential_zones[1]):\n",
    "    #     counter += 1\n",
    "    \n",
    "    # Option 2\n",
    "    overlap = sequential_zones[0].intersection(sequential_zones[1])\n",
    "    if overlap == sequential_zones[0] or overlap == sequential_zones[1]:\n",
    "        counter += 1\n",
    "        \n",
    "counter"
   ]
  },
  {
   "cell_type": "markdown",
   "id": "966db883-6e64-46ad-bfdf-a164df7f49c8",
   "metadata": {},
   "source": [
    "## Day 4 - Part 2"
   ]
  },
  {
   "cell_type": "code",
   "execution_count": 11,
   "id": "073b767f-c609-4b32-a7fb-897cd55eb169",
   "metadata": {},
   "outputs": [
    {
     "data": {
      "text/plain": [
       "801"
      ]
     },
     "execution_count": 11,
     "metadata": {},
     "output_type": "execute_result"
    }
   ],
   "source": [
    "counter = 0\n",
    "\n",
    "for pair in lines:\n",
    "    sequential_zones = []\n",
    "    for elf in pair:\n",
    "        sec_start_stop = [int(zone) for zone in elf.split('-')]\n",
    "        sequential_zones.append(set(range(sec_start_stop[0], sec_start_stop[1] + 1)))\n",
    "    \n",
    "    overlap = sequential_zones[0].intersection(sequential_zones[1])\n",
    "    if len(overlap) > 0:\n",
    "        counter += 1\n",
    "        \n",
    "counter"
   ]
  },
  {
   "cell_type": "markdown",
   "id": "1e215128-e0c0-48e2-ad19-b8d055971b1f",
   "metadata": {},
   "source": [
    "# Day 5"
   ]
  },
  {
   "cell_type": "markdown",
   "id": "286aae46-ed01-4b76-9836-2ec673405fc2",
   "metadata": {},
   "source": [
    "## Day 5 - Part 1"
   ]
  },
  {
   "cell_type": "code",
   "execution_count": 12,
   "id": "8303ec83-e056-4a20-8a84-8bbe72ece4a4",
   "metadata": {},
   "outputs": [],
   "source": [
    "def create_crates():\n",
    "    crate_stacks = [\n",
    "        ['H', 'T', 'Z', 'D'],\n",
    "        ['Q', 'R', 'W', 'T', 'G', 'C', 'S'],\n",
    "        ['P', 'B', 'F', 'Q', 'N', 'R', 'C', 'H'],\n",
    "        ['L', 'C', 'N', 'F', 'H', 'Z'],\n",
    "        ['G', 'L', 'F', 'Q', 'S'],\n",
    "        ['V', 'P', 'W', 'Z', 'B', 'R', 'C', 'S'],\n",
    "        ['Z', 'F', 'J'],\n",
    "        ['D', 'L', 'V', 'Z', 'R', 'H', 'Q'],\n",
    "        ['B', 'H', 'G', 'N', 'F', 'Z', 'L', 'D']\n",
    "    ]\n",
    "    return crate_stacks"
   ]
  },
  {
   "cell_type": "code",
   "execution_count": 13,
   "id": "da2b6b6a-f222-4c56-9445-711092a7b825",
   "metadata": {},
   "outputs": [],
   "source": [
    "crate_stacks = create_crates()"
   ]
  },
  {
   "cell_type": "code",
   "execution_count": 14,
   "id": "59a94787-e7b3-4071-8645-092fda677d5c",
   "metadata": {},
   "outputs": [],
   "source": [
    "with open('../challenges/5/input.txt', 'r') as f:\n",
    "    raw_directions = [line.strip('\\n') for line in f]\n",
    "\n",
    "directions = []\n",
    "for direction in raw_directions:\n",
    "    directions.append([int(element) for element in direction.split() if element.isnumeric()])"
   ]
  },
  {
   "cell_type": "code",
   "execution_count": 15,
   "id": "9e4620e9-dd8e-4bee-8f4e-272b8e202f6d",
   "metadata": {},
   "outputs": [],
   "source": [
    "for direction in directions:\n",
    "    for i in range(direction[0]):\n",
    "        source = crate_stacks[direction[1] - 1]\n",
    "        destination = crate_stacks[direction[2] - 1]\n",
    "\n",
    "        destination.append(source.pop())"
   ]
  },
  {
   "cell_type": "code",
   "execution_count": 16,
   "id": "c355f190-b43f-424c-9d3a-f922727ac48e",
   "metadata": {},
   "outputs": [
    {
     "data": {
      "text/plain": [
       "'RFFFWBPNS'"
      ]
     },
     "execution_count": 16,
     "metadata": {},
     "output_type": "execute_result"
    }
   ],
   "source": [
    "top_crates = ''.join([crate_stack[-1] for crate_stack in crate_stacks])\n",
    "top_crates"
   ]
  },
  {
   "cell_type": "markdown",
   "id": "bab390b5-6abd-44a5-9b96-1aa256b5ad44",
   "metadata": {},
   "source": [
    "## Day 5 - Part 2"
   ]
  },
  {
   "cell_type": "code",
   "execution_count": 17,
   "id": "81b118c2-3298-4e54-a6d4-7c5a9a34d26e",
   "metadata": {},
   "outputs": [],
   "source": [
    "crate_stacks = create_crates()"
   ]
  },
  {
   "cell_type": "code",
   "execution_count": 18,
   "id": "3178d448-350b-42a5-9503-b7e01094364a",
   "metadata": {},
   "outputs": [],
   "source": [
    "for direction in directions:\n",
    "    source = crate_stacks[direction[1] - 1]\n",
    "    destination = crate_stacks[direction[2] - 1]\n",
    "    num_crates = direction[0]\n",
    "    for i in range(-num_crates, 0):\n",
    "        destination.append(source.pop(i))"
   ]
  },
  {
   "cell_type": "code",
   "execution_count": 19,
   "id": "20707ccf-30be-4c25-aa75-59c9b44daaaa",
   "metadata": {},
   "outputs": [
    {
     "data": {
      "text/plain": [
       "'CQQBBJFCS'"
      ]
     },
     "execution_count": 19,
     "metadata": {},
     "output_type": "execute_result"
    }
   ],
   "source": [
    "top_crates = ''.join([crate_stack[-1] for crate_stack in crate_stacks])\n",
    "top_crates"
   ]
  },
  {
   "cell_type": "markdown",
   "id": "d31b54ae-cdea-4491-9837-b5ac53950595",
   "metadata": {},
   "source": [
    "# Day 6"
   ]
  },
  {
   "cell_type": "markdown",
   "id": "b307c1b8-f1b7-4b03-8f90-efc5cc40fdb3",
   "metadata": {},
   "source": [
    "## Day 6 - Part 1"
   ]
  },
  {
   "cell_type": "code",
   "execution_count": 20,
   "id": "c149f2bb-4721-43a9-8533-bfad14efe831",
   "metadata": {},
   "outputs": [],
   "source": [
    "with open('../challenges/6/input.txt', 'r') as f:\n",
    "    input_string = f.readlines()[0]"
   ]
  },
  {
   "cell_type": "code",
   "execution_count": 21,
   "id": "cd34ad41-05fe-4fe4-a5b2-828670b5cb66",
   "metadata": {},
   "outputs": [
    {
     "name": "stdout",
     "output_type": "stream",
     "text": [
      "1987\n"
     ]
    }
   ],
   "source": [
    "# Part 1\n",
    "for i, _ in enumerate(input_string, 1):\n",
    "    if len(set(input_string[i - 4: i])) == 4:\n",
    "        output = i\n",
    "        print(i)\n",
    "        break"
   ]
  },
  {
   "cell_type": "markdown",
   "id": "046c3e40-ddc7-4bea-9aad-0534d6f37eca",
   "metadata": {},
   "source": [
    "## Day 6 - Part 2"
   ]
  },
  {
   "cell_type": "code",
   "execution_count": 22,
   "id": "8536e970-ce49-4d8d-9383-332e842cc9bb",
   "metadata": {},
   "outputs": [
    {
     "name": "stdout",
     "output_type": "stream",
     "text": [
      "3059\n"
     ]
    }
   ],
   "source": [
    "# Part 2\n",
    "for i, _ in enumerate(input_string, 1):\n",
    "    if len(set(input_string[i - 14: i])) == 14:\n",
    "        output = i\n",
    "        print(i)\n",
    "        break"
   ]
  },
  {
   "cell_type": "code",
   "execution_count": null,
   "id": "743a1205-21cd-4e23-a500-c762a7f40d17",
   "metadata": {},
   "outputs": [],
   "source": []
  },
  {
   "cell_type": "markdown",
   "id": "d8e3604a-3200-45c0-a066-ae8b0dfa33db",
   "metadata": {},
   "source": [
    "# Day 7"
   ]
  },
  {
   "cell_type": "markdown",
   "id": "c9bebb3d-77ea-4883-bd9a-25c34080ecee",
   "metadata": {},
   "source": [
    "## Day 7 - Part 1"
   ]
  },
  {
   "cell_type": "code",
   "execution_count": 23,
   "id": "c11c8d3c-1598-4ebd-abcd-7d66418c3062",
   "metadata": {},
   "outputs": [],
   "source": [
    "import pprint\n",
    "pp = pprint.PrettyPrinter()"
   ]
  },
  {
   "cell_type": "code",
   "execution_count": 24,
   "id": "5035aeff-94ed-4bee-a873-f6c18ab174d6",
   "metadata": {},
   "outputs": [],
   "source": [
    "with open('../challenges/7/input.txt', 'r') as f:\n",
    "    terminal_input = [line.strip('\\n') for line in f.readlines()]"
   ]
  },
  {
   "cell_type": "code",
   "execution_count": 25,
   "id": "90904023-6e01-4b95-adb8-304491409f4a",
   "metadata": {},
   "outputs": [],
   "source": [
    "dirs = {}\n",
    "\n",
    "for line in terminal_input:\n",
    "    match line.split():\n",
    "        case '$', 'cd', '/': cur_path = ['/']\n",
    "        case '$', 'cd', '..': cur_path.pop()\n",
    "        case '$', 'cd', x : cur_path.append(x+'/')\n",
    "        case 'dir', _ : pass\n",
    "        case '$', 'ls' : pass\n",
    "        case size, _ : \n",
    "            for i, _ in enumerate(cur_path, 1):\n",
    "                # print(\"\".join(cur_path[:i]))\n",
    "                try:\n",
    "                    dirs[\"\".join(cur_path[:i])] += int(size)\n",
    "                except:\n",
    "                    dirs[\"\".join(cur_path[:i])] = int(size)\n",
    "# pp.pprint(dirs)"
   ]
  },
  {
   "cell_type": "code",
   "execution_count": 26,
   "id": "540e7b05-afd4-40b3-adc5-83ce21353e38",
   "metadata": {},
   "outputs": [
    {
     "data": {
      "text/plain": [
       "1454188"
      ]
     },
     "execution_count": 26,
     "metadata": {},
     "output_type": "execute_result"
    }
   ],
   "source": [
    "sum(value for value in dirs.values() if value <= 100_000)"
   ]
  },
  {
   "cell_type": "code",
   "execution_count": 27,
   "id": "a73c2cac-ecab-4388-984b-4b991ba334ab",
   "metadata": {},
   "outputs": [],
   "source": [
    "# of course there is an itertools for accumulating\n",
    "from itertools import accumulate\n",
    "\n",
    "dirs = {}\n",
    "\n",
    "for line in terminal_input:\n",
    "    match line.split():\n",
    "        case '$', 'cd', '/': cur_path = ['/']\n",
    "        case '$', 'cd', '..': cur_path.pop()\n",
    "        case '$', 'cd', x : cur_path.append(x+'/')\n",
    "        case 'dir', _ : pass\n",
    "        case '$', 'ls' : pass\n",
    "        case size, _ : \n",
    "            for path in accumulate(cur_path):\n",
    "                try:\n",
    "                    dirs[path] += int(size)\n",
    "                except KeyError:\n",
    "                    dirs[path] = int(size)\n",
    "# pp.pprint(dirs)"
   ]
  },
  {
   "cell_type": "code",
   "execution_count": 28,
   "id": "65aaa4de-f50c-4bf1-8a5e-06357c6f3483",
   "metadata": {},
   "outputs": [
    {
     "data": {
      "text/plain": [
       "1454188"
      ]
     },
     "execution_count": 28,
     "metadata": {},
     "output_type": "execute_result"
    }
   ],
   "source": [
    "sum(value for value in dirs.values() if value <= 100_000)"
   ]
  },
  {
   "cell_type": "markdown",
   "id": "ed5ce533-ebb8-49b5-8745-e8b555e0071b",
   "metadata": {},
   "source": [
    "## Day 7 - Part 2"
   ]
  },
  {
   "cell_type": "code",
   "execution_count": 29,
   "id": "9a6e21bb-78fd-420d-8c98-344f759123fc",
   "metadata": {},
   "outputs": [
    {
     "data": {
      "text/plain": [
       "4183246"
      ]
     },
     "execution_count": 29,
     "metadata": {},
     "output_type": "execute_result"
    }
   ],
   "source": [
    "max_other = 70_000_000 - 30_000_000\n",
    "min(dir_size for dir_size in dirs.values() if dir_size >= dirs['/'] - max_other)"
   ]
  },
  {
   "cell_type": "markdown",
   "id": "4fcf44b7-ea30-49ec-b13f-174b682b4f89",
   "metadata": {},
   "source": [
    "# Day 8"
   ]
  },
  {
   "cell_type": "markdown",
   "id": "cb748ec5-9dfc-4c33-8f44-5718838ecb3a",
   "metadata": {},
   "source": [
    "## Day 8 - Part 1"
   ]
  },
  {
   "cell_type": "code",
   "execution_count": 30,
   "id": "36b858e1-803c-4d9b-9163-b0e0aad16b52",
   "metadata": {},
   "outputs": [],
   "source": [
    "import numpy as np"
   ]
  },
  {
   "cell_type": "code",
   "execution_count": 31,
   "id": "34a717fb-40e1-4735-8c05-848b563e99e7",
   "metadata": {},
   "outputs": [],
   "source": [
    "with open('../challenges/8/input.txt', 'r') as f:\n",
    "    tree_grid = [[int(n) for n in line.strip('\\n')] for line in f.readlines()]\n",
    "# pp.pprint(tree_grid)"
   ]
  },
  {
   "cell_type": "code",
   "execution_count": 32,
   "id": "b5d9697f-8410-4241-94e2-e4567c2acb36",
   "metadata": {},
   "outputs": [
    {
     "name": "stdout",
     "output_type": "stream",
     "text": [
      "1705\n"
     ]
    }
   ],
   "source": [
    "tree_grid = np.array(tree_grid)\n",
    "visible = 0\n",
    "for i in range(1, tree_grid.shape[0] - 1):\n",
    "    for j in range(1, tree_grid.shape[1] - 1):\n",
    "        \n",
    "        right = tree_grid[i, j] > np.max(tree_grid[i, :j])\n",
    "        left = tree_grid[i, j] > np.max(tree_grid[i, j + 1:])\n",
    "        top = tree_grid[i, j] > np.max(tree_grid[:i, j])\n",
    "        bottom = tree_grid[i, j] > np.max(tree_grid[i + 1:, j])\n",
    "        visible += right or left or top or bottom\n",
    "        \n",
    "visible += 2 * sum(tree_grid.shape) - 4\n",
    "print(visible)"
   ]
  },
  {
   "cell_type": "markdown",
   "id": "27539920-3295-4c62-bc18-ccffcbf7c7ba",
   "metadata": {},
   "source": [
    "## Day 8 - Part 2"
   ]
  },
  {
   "cell_type": "code",
   "execution_count": 33,
   "id": "b6f7881e-ce17-41c9-8e5e-69def3c77cef",
   "metadata": {},
   "outputs": [],
   "source": [
    "def calc_score(cur_tree, line_of_trees):\n",
    "    # I am unhappy this function looks this way\n",
    "    score = 0\n",
    "    for tree_height in line_of_trees:\n",
    "        if cur_tree > tree_height:\n",
    "            score += 1\n",
    "        else:\n",
    "            score += 1\n",
    "            return score\n",
    "    return score"
   ]
  },
  {
   "cell_type": "code",
   "execution_count": 34,
   "id": "3344272b-9867-4b5d-ad36-4dacc1cbb86a",
   "metadata": {},
   "outputs": [],
   "source": [
    "scores = np.zeros(tree_grid.shape)"
   ]
  },
  {
   "cell_type": "code",
   "execution_count": 35,
   "id": "9515c00c-c895-4bd6-b2f6-8fa47981bad9",
   "metadata": {
    "tags": []
   },
   "outputs": [
    {
     "data": {
      "text/plain": [
       "371200"
      ]
     },
     "execution_count": 35,
     "metadata": {},
     "output_type": "execute_result"
    }
   ],
   "source": [
    "for i in range(tree_grid.shape[0]):\n",
    "    for j in range(tree_grid.shape[1]):\n",
    "        cur_tree_height = tree_grid[i, j]\n",
    "        score = 1\n",
    "        # from current tree\n",
    "        # looking right\n",
    "        score *= calc_score(cur_tree_height, tree_grid[i, j+1:])\n",
    "        # looking left\n",
    "        score *= calc_score(cur_tree_height, tree_grid[i, :j][::-1])\n",
    "        # looking up\n",
    "        score *= calc_score(cur_tree_height, tree_grid[:i, j][::-1])\n",
    "        # looking down\n",
    "        score *= calc_score(cur_tree_height, tree_grid[i+1:, j])\n",
    "        \n",
    "        scores[i, j] = score\n",
    "        \n",
    "int(np.max(scores))"
   ]
  },
  {
   "cell_type": "markdown",
   "id": "6a2ab364-6ac0-4096-9960-2f607738cba3",
   "metadata": {},
   "source": [
    "# Day 9"
   ]
  },
  {
   "cell_type": "markdown",
   "id": "ae1375f4-5b41-4d6d-9881-fbc7c179bfcb",
   "metadata": {},
   "source": [
    "## Day 9 - Part 1"
   ]
  },
  {
   "cell_type": "code",
   "execution_count": 36,
   "id": "380f311c-3c46-47a5-b1dc-729f209405a0",
   "metadata": {},
   "outputs": [
    {
     "name": "stdout",
     "output_type": "stream",
     "text": [
      "pygame 2.1.2 (SDL 2.0.16, Python 3.10.6)\n",
      "Hello from the pygame community. https://www.pygame.org/contribute.html\n",
      "6197\n",
      "2562\n"
     ]
    }
   ],
   "source": [
    "from time import perf_counter as pfc\n",
    "from pygame import Vector2 as V    \n",
    "\n",
    "\n",
    "def read_puzzle(file):\n",
    "    with open(file) as f:\n",
    "        return [line.strip().split() for line in f.readlines()]    \n",
    "\n",
    "\n",
    "def move(rope):\n",
    "    for i in range(len(rope)-1):\n",
    "        s1, s2 = rope[i], rope[i+1]\n",
    "        if s1.distance_to(s2) >= 2:\n",
    "            dx, dy = s1 - s2\n",
    "            if abs(dx) > 1:  dx //= abs(dx)\n",
    "            if abs(dy) > 1:  dy //= abs(dy)\n",
    "            rope[i+1] = s2 + V(dx, dy)\n",
    "    return rope    \n",
    "\n",
    "\n",
    "def solve(puzzle, rope_length):\n",
    "    DIR = dict(R=V(1, 0), L=V(-1, 0), U=V(0, -1), D=V(0, 1))\n",
    "    rope, tail_trail = [V(0, 0)]*rope_length, set()\n",
    "    for dir, steps in puzzle:\n",
    "        for _ in range(int(steps)):\n",
    "            rope[0] = rope[0] + DIR[dir]\n",
    "            rope = move(rope)\n",
    "            tail_trail.add(tuple(rope[-1]))\n",
    "    return len(tail_trail)    \n",
    "\n",
    "\n",
    "puzzle = read_puzzle('../challenges/9/input.txt')\n",
    "print(solve(puzzle, 2))\n",
    "print(solve(puzzle, 10))"
   ]
  },
  {
   "cell_type": "markdown",
   "id": "f233f297-b2f7-4dae-ab23-1250d73edf43",
   "metadata": {},
   "source": [
    "# Day 10"
   ]
  },
  {
   "cell_type": "markdown",
   "id": "44f00067-1a7d-4c9e-b9c9-496d68b794be",
   "metadata": {},
   "source": [
    "## Day 10 - Part 1"
   ]
  },
  {
   "cell_type": "code",
   "execution_count": 37,
   "id": "f2149aad-5a0e-4505-a550-36852aa2933d",
   "metadata": {},
   "outputs": [],
   "source": [
    "with open('../challenges/10/input.txt', 'r') as f:\n",
    "    lines = [line.strip('\\n') for line in f]"
   ]
  },
  {
   "cell_type": "code",
   "execution_count": 38,
   "id": "a70223c8-ee8b-4bae-9960-aa2bf9358c8a",
   "metadata": {},
   "outputs": [
    {
     "data": {
      "text/plain": [
       "['noop',\n",
       " 'noop',\n",
       " 'addx 6',\n",
       " 'addx -1',\n",
       " 'noop',\n",
       " 'addx 5',\n",
       " 'addx 3',\n",
       " 'noop',\n",
       " 'addx 3',\n",
       " 'addx -1']"
      ]
     },
     "execution_count": 38,
     "metadata": {},
     "output_type": "execute_result"
    }
   ],
   "source": [
    "lines[:10]"
   ]
  },
  {
   "cell_type": "code",
   "execution_count": 39,
   "id": "c4760f82-2c56-4166-bd38-e96f18a8413d",
   "metadata": {},
   "outputs": [
    {
     "name": "stdout",
     "output_type": "stream",
     "text": [
      "14360\n"
     ]
    }
   ],
   "source": [
    "cycle = 0\n",
    "saved_signals = []\n",
    "X = 1\n",
    "\n",
    "for line in lines:\n",
    "    if line == 'noop':\n",
    "        cycle += 1\n",
    "        if (cycle - 20) % 40 == 0:\n",
    "            saved_signals.append(X * cycle)\n",
    "    else:\n",
    "        for i in range(2):\n",
    "            cycle += 1\n",
    "            if (cycle - 20) % 40 == 0:\n",
    "                saved_signals.append(X * cycle)\n",
    "        X += int(line.split()[1])\n",
    "\n",
    "print(sum(saved_signals))"
   ]
  },
  {
   "cell_type": "markdown",
   "id": "5d77bfca-f8d5-4e4d-9b5e-0c919b85f30a",
   "metadata": {},
   "source": [
    "## Day 10 - Part 2"
   ]
  },
  {
   "cell_type": "code",
   "execution_count": 40,
   "id": "4aab9a54-766a-4937-b846-0f4613caab48",
   "metadata": {},
   "outputs": [
    {
     "name": "stdout",
     "output_type": "stream",
     "text": [
      "###...##..#..#..##..####.###..####.####.\n",
      "#..#.#..#.#.#..#..#.#....#..#.#.......#.\n",
      "###..#....##...#..#.###..#..#.###....#..\n",
      "#..#.#.##.#.#..####.#....###..#.....#...\n",
      "#..#.#..#.#.#..#..#.#....#.#..#....#....\n",
      "###...###.#..#.#..#.####.#..#.####.####.\n"
     ]
    }
   ],
   "source": [
    "X = 1\n",
    "crt_pos = 0\n",
    "crt_out = ''\n",
    "\n",
    "for line in lines:\n",
    "    if line == 'noop':\n",
    "        crt_out += '#' if crt_pos in [X-1, X, X+1] else '.'\n",
    "        \n",
    "        if crt_pos == 39:\n",
    "            print(crt_out)\n",
    "            crt_out = ''\n",
    "            crt_pos = 0\n",
    "        else:\n",
    "            crt_pos += 1\n",
    "        \n",
    "    else:\n",
    "        for i in range(2):\n",
    "            crt_out += '#' if crt_pos in [X-1, X, X+1] else '.'\n",
    "        \n",
    "            if crt_pos == 39:\n",
    "                print(crt_out)\n",
    "                crt_out = ''\n",
    "                crt_pos = 0\n",
    "            else:\n",
    "                crt_pos += 1\n",
    "        X += int(line.split()[1])"
   ]
  },
  {
   "cell_type": "markdown",
   "id": "4ae842a4-ba5d-41a1-8bfd-6d67f4bc87e6",
   "metadata": {},
   "source": [
    "# Day 11"
   ]
  },
  {
   "cell_type": "markdown",
   "id": "aa11b318-8b82-4b05-b190-fce11995f3b1",
   "metadata": {},
   "source": [
    "## Day 11 - Part 1"
   ]
  },
  {
   "cell_type": "code",
   "execution_count": 41,
   "id": "6e3cfc5e-e902-41ee-a857-a1c9eef646bd",
   "metadata": {},
   "outputs": [],
   "source": [
    "with open('../challenges/11/input.txt', 'r') as f:\n",
    "    lines = [line.strip('\\n') for line in f]\n",
    "\n",
    "monkeys_raw = []\n",
    "for i in range(0, len(lines), 7):\n",
    "    monkeys_raw.append([line.strip() for line in lines[i: i + 6]])"
   ]
  },
  {
   "cell_type": "code",
   "execution_count": 42,
   "id": "c358fc9e-54b7-4f6d-a53c-8cff62daf767",
   "metadata": {
    "tags": []
   },
   "outputs": [
    {
     "data": {
      "text/plain": [
       "[['Monkey 0:',\n",
       "  'Starting items: 50, 70, 89, 75, 66, 66',\n",
       "  'Operation: new = old * 5',\n",
       "  'Test: divisible by 2',\n",
       "  'If true: throw to monkey 2',\n",
       "  'If false: throw to monkey 1'],\n",
       " ['Monkey 1:',\n",
       "  'Starting items: 85',\n",
       "  'Operation: new = old * old',\n",
       "  'Test: divisible by 7',\n",
       "  'If true: throw to monkey 3',\n",
       "  'If false: throw to monkey 6'],\n",
       " ['Monkey 2:',\n",
       "  'Starting items: 66, 51, 71, 76, 58, 55, 58, 60',\n",
       "  'Operation: new = old + 1',\n",
       "  'Test: divisible by 13',\n",
       "  'If true: throw to monkey 1',\n",
       "  'If false: throw to monkey 3'],\n",
       " ['Monkey 3:',\n",
       "  'Starting items: 79, 52, 55, 51',\n",
       "  'Operation: new = old + 6',\n",
       "  'Test: divisible by 3',\n",
       "  'If true: throw to monkey 6',\n",
       "  'If false: throw to monkey 4'],\n",
       " ['Monkey 4:',\n",
       "  'Starting items: 69, 92',\n",
       "  'Operation: new = old * 17',\n",
       "  'Test: divisible by 19',\n",
       "  'If true: throw to monkey 7',\n",
       "  'If false: throw to monkey 5'],\n",
       " ['Monkey 5:',\n",
       "  'Starting items: 71, 76, 73, 98, 67, 79, 99',\n",
       "  'Operation: new = old + 8',\n",
       "  'Test: divisible by 5',\n",
       "  'If true: throw to monkey 0',\n",
       "  'If false: throw to monkey 2'],\n",
       " ['Monkey 6:',\n",
       "  'Starting items: 82, 76, 69, 69, 57',\n",
       "  'Operation: new = old + 7',\n",
       "  'Test: divisible by 11',\n",
       "  'If true: throw to monkey 7',\n",
       "  'If false: throw to monkey 4'],\n",
       " ['Monkey 7:',\n",
       "  'Starting items: 65, 79, 86',\n",
       "  'Operation: new = old + 5',\n",
       "  'Test: divisible by 17',\n",
       "  'If true: throw to monkey 5',\n",
       "  'If false: throw to monkey 0']]"
      ]
     },
     "execution_count": 42,
     "metadata": {},
     "output_type": "execute_result"
    }
   ],
   "source": [
    "monkeys_raw"
   ]
  },
  {
   "cell_type": "code",
   "execution_count": 135,
   "id": "b6a9433c-181e-412b-8631-84954996eae7",
   "metadata": {},
   "outputs": [],
   "source": [
    "TEST_PRODUCT = 2 * 7 * 13 * 3 * 19 * 5 * 11 * 17\n",
    "\n",
    "class Monkey():\n",
    "    \n",
    "    def __init__(self, number, items, operation, test, if_true, if_false):\n",
    "        self.number = number\n",
    "        self.items = items\n",
    "        self.operation = operation\n",
    "        self.test = test\n",
    "        self.if_true = if_true\n",
    "        self.if_false = if_false\n",
    "        self.inspects = 0\n",
    "        \n",
    "    def inspect_item(self, item, relief):\n",
    "        self.inspects += 1\n",
    "        worry = eval(self.operation.replace('old', item))\n",
    "        if relief == 1:\n",
    "            worry = worry % TEST_PRODUCT\n",
    "        else:\n",
    "            worry = worry // relief\n",
    "        # worry = worry % TEST_PRODUCT\n",
    "        self.items.remove(item)\n",
    "        if worry % self.test == 0:\n",
    "            return self.if_true, str(worry)\n",
    "        else:\n",
    "            return self.if_false, str(worry)"
   ]
  },
  {
   "cell_type": "code",
   "execution_count": 136,
   "id": "b6e61728-89b3-4300-8c30-6a0f42e042a9",
   "metadata": {},
   "outputs": [],
   "source": [
    "monkeys = []\n",
    "for monkey in monkeys_raw:\n",
    "    monkey_num = int(monkey[0].split()[-1].strip(':'))\n",
    "    monkey_items = [item.strip(',') for item in monkey[1].split()[2:]]\n",
    "    monkey_operation = monkey[2].split(' = ')[1]\n",
    "    monkey_test = int(monkey[3].split()[-1])\n",
    "    monkey_if_true = int(monkey[4].split()[-1])\n",
    "    monkey_if_false = int(monkey[5].split()[-1])\n",
    "    monkeys.append(Monkey(\n",
    "        monkey_num,\n",
    "        monkey_items,\n",
    "        monkey_operation,\n",
    "        monkey_test,\n",
    "        monkey_if_true,\n",
    "        monkey_if_false\n",
    "    ))"
   ]
  },
  {
   "cell_type": "code",
   "execution_count": 137,
   "id": "5338c75c-dc11-4313-adc4-da8ba820a382",
   "metadata": {},
   "outputs": [],
   "source": [
    "for i in range(20):\n",
    "    # print(i)\n",
    "    for monkey in monkeys:\n",
    "        # print(monkey.number)\n",
    "        while monkey.items:\n",
    "            for item in monkey.items:\n",
    "                throw_to, worry = monkey.inspect_item(item, 3)\n",
    "                monkeys[throw_to].items.append(worry)"
   ]
  },
  {
   "cell_type": "code",
   "execution_count": 138,
   "id": "b1dab9c4-5381-4f62-9162-f9d35ab95c4c",
   "metadata": {},
   "outputs": [],
   "source": [
    "top_two = sorted([monkey.inspects for monkey in monkeys], reverse=True)[:2]"
   ]
  },
  {
   "cell_type": "code",
   "execution_count": 139,
   "id": "036b5d7b-8512-4540-8dfd-734b518baeb9",
   "metadata": {},
   "outputs": [
    {
     "data": {
      "text/plain": [
       "151312"
      ]
     },
     "execution_count": 139,
     "metadata": {},
     "output_type": "execute_result"
    }
   ],
   "source": [
    "monkey_biz = top_two[0] * top_two[1]\n",
    "monkey_biz"
   ]
  },
  {
   "cell_type": "markdown",
   "id": "beb1e555-d7c9-4822-bf46-d0465feb3f6b",
   "metadata": {},
   "source": [
    "## Day 11 - Part 2"
   ]
  },
  {
   "cell_type": "code",
   "execution_count": 140,
   "id": "b0c6d46d-1e77-40bb-b38e-2f09f4918a4b",
   "metadata": {
    "tags": []
   },
   "outputs": [
    {
     "data": {
      "text/plain": [
       "51382025916"
      ]
     },
     "execution_count": 140,
     "metadata": {},
     "output_type": "execute_result"
    }
   ],
   "source": [
    "monkeys = []\n",
    "for monkey in monkeys_raw:\n",
    "    monkey_num = int(monkey[0].split()[-1].strip(':'))\n",
    "    monkey_items = [item.strip(',') for item in monkey[1].split()[2:]]\n",
    "    monkey_operation = monkey[2].split(' = ')[1]\n",
    "    monkey_test = int(monkey[3].split()[-1])\n",
    "    monkey_if_true = int(monkey[4].split()[-1])\n",
    "    monkey_if_false = int(monkey[5].split()[-1])\n",
    "    monkeys.append(Monkey(\n",
    "        monkey_num,\n",
    "        monkey_items,\n",
    "        monkey_operation,\n",
    "        monkey_test,\n",
    "        monkey_if_true,\n",
    "        monkey_if_false\n",
    "    ))\n",
    "    \n",
    "for i in range(10_000):\n",
    "    # print(i)\n",
    "    for monkey in monkeys:\n",
    "        # print(monkey.number)\n",
    "        while monkey.items:\n",
    "            for item in monkey.items:\n",
    "                throw_to, worry = monkey.inspect_item(item, 1)\n",
    "                monkeys[throw_to].items.append(worry)\n",
    "    # print(i)\n",
    "                \n",
    "top_two = sorted([monkey.inspects for monkey in monkeys], reverse=True)[:2]\n",
    "monkey_biz = top_two[0] * top_two[1]\n",
    "monkey_biz"
   ]
  },
  {
   "cell_type": "code",
   "execution_count": null,
   "id": "f88de11e-ceaa-477d-a808-916cf4b6f747",
   "metadata": {},
   "outputs": [],
   "source": []
  },
  {
   "cell_type": "code",
   "execution_count": null,
   "id": "36b695fb-3fa6-45ce-9961-5709a84183c4",
   "metadata": {},
   "outputs": [],
   "source": []
  },
  {
   "cell_type": "code",
   "execution_count": null,
   "id": "8fcd0020-9965-4f0c-9a3c-d0c033730c57",
   "metadata": {},
   "outputs": [],
   "source": []
  },
  {
   "cell_type": "code",
   "execution_count": null,
   "id": "081f9842-e5a9-46e8-a2a9-1467844a3034",
   "metadata": {},
   "outputs": [],
   "source": []
  }
 ],
 "metadata": {
  "kernelspec": {
   "display_name": "Python 3 (ipykernel)",
   "language": "python",
   "name": "python3"
  },
  "language_info": {
   "codemirror_mode": {
    "name": "ipython",
    "version": 3
   },
   "file_extension": ".py",
   "mimetype": "text/x-python",
   "name": "python",
   "nbconvert_exporter": "python",
   "pygments_lexer": "ipython3",
   "version": "3.10.6"
  }
 },
 "nbformat": 4,
 "nbformat_minor": 5
}
